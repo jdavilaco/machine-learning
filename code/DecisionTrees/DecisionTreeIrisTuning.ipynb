{
 "cells": [
  {
   "metadata": {
    "ExecuteTime": {
     "end_time": "2025-06-21T21:56:34.077489Z",
     "start_time": "2025-06-21T21:56:31.487866Z"
    }
   },
   "cell_type": "code",
   "source": [
    "import numpy as np\n",
    "from sklearn.tree import DecisionTreeClassifier\n",
    "from sklearn.model_selection import train_test_split\n",
    "from sklearn.metrics import confusion_matrix\n",
    "from sklearn.metrics import accuracy_score\n",
    "from sklearn import datasets\n",
    "from sklearn.model_selection import GridSearchCV\n"
   ],
   "id": "d81c2ac0a58315fc",
   "outputs": [],
   "execution_count": 1
  },
  {
   "metadata": {
    "ExecuteTime": {
     "end_time": "2025-06-21T21:56:34.314682Z",
     "start_time": "2025-06-21T21:56:34.306001Z"
    }
   },
   "cell_type": "code",
   "source": [
    "iris_data = datasets.load_iris()\n",
    "\n",
    "features = iris_data.data\n",
    "targets = iris_data.target\n"
   ],
   "id": "b753ca19b106b8ca",
   "outputs": [],
   "execution_count": 2
  },
  {
   "metadata": {
    "ExecuteTime": {
     "end_time": "2025-06-21T21:59:34.764978Z",
     "start_time": "2025-06-21T21:59:34.664007Z"
    }
   },
   "cell_type": "code",
   "source": [
    "# with grid search you can find an optimal parameter \"parameter tuning\"\n",
    "param_grid = {'max_depth': np.arange(1, 10)}\n",
    "\n",
    "feature_train, feature_test, target_train, target_test = train_test_split(features, targets, test_size=.2)\n",
    "\n",
    "# in every iteration we split the data randomly in cross validation + DecisionTreeClassifier\n",
    "# initializes the tree randomly: that's why you get different results !!!\n",
    "tree = GridSearchCV(DecisionTreeClassifier(), param_grid)\n",
    "\n",
    "tree.fit(feature_train, target_train)\n",
    "\n",
    "print(\"Best parameter with Grid Search: \", tree.best_params_)\n"
   ],
   "id": "40b5da888492d28c",
   "outputs": [
    {
     "name": "stdout",
     "output_type": "stream",
     "text": [
      "Best parameter with Grid Search:  {'max_depth': 3}\n"
     ]
    }
   ],
   "execution_count": 9
  },
  {
   "metadata": {
    "ExecuteTime": {
     "end_time": "2025-06-21T21:59:06.517374Z",
     "start_time": "2025-06-21T21:59:06.510467Z"
    }
   },
   "cell_type": "code",
   "source": [
    "grid_predictions = tree.predict(feature_test)\n",
    "print(confusion_matrix(target_test, grid_predictions))\n",
    "print(accuracy_score(target_test, grid_predictions))\n"
   ],
   "id": "41b0970cd6b36b91",
   "outputs": [
    {
     "name": "stdout",
     "output_type": "stream",
     "text": [
      "[[11  0  0]\n",
      " [ 0  8  0]\n",
      " [ 0  0 11]]\n",
      "1.0\n"
     ]
    }
   ],
   "execution_count": 8
  }
 ],
 "metadata": {},
 "nbformat": 4,
 "nbformat_minor": 5
}
