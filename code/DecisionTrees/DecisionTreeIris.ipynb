{
 "cells": [
  {
   "metadata": {
    "ExecuteTime": {
     "end_time": "2025-06-20T23:24:36.569187Z",
     "start_time": "2025-06-20T23:24:33.081589Z"
    }
   },
   "cell_type": "code",
   "source": [
    "import numpy as np\n",
    "from sklearn.tree import DecisionTreeClassifier\n",
    "from sklearn.model_selection import train_test_split\n",
    "from sklearn.model_selection import cross_validate\n",
    "from sklearn import datasets\n"
   ],
   "id": "f801ad2abb31631c",
   "outputs": [],
   "execution_count": 1
  },
  {
   "metadata": {},
   "cell_type": "code",
   "source": [
    "iris_data = datasets.load_iris()\n",
    "\n",
    "features = iris_data.data\n",
    "targets = iris_data.target\n",
    "\n",
    "feature_train, feature_test, target_train, target_test = train_test_split(features, targets, test_size=.2)\n"
   ],
   "id": "7efa03d5cfa2f646",
   "outputs": [],
   "execution_count": null
  },
  {
   "metadata": {
    "ExecuteTime": {
     "end_time": "2025-06-21T21:53:42.886730Z",
     "start_time": "2025-06-21T21:53:42.855519Z"
    }
   },
   "cell_type": "code",
   "source": [
    "model = DecisionTreeClassifier(criterion=\"gini\") # \"gini\" is the default.\n",
    "\n",
    "predicted = cross_validate(model, features, targets, cv=10)\n",
    "print(np.mean(predicted['test_score']))\n"
   ],
   "id": "d7beb4114162091c",
   "outputs": [
    {
     "name": "stdout",
     "output_type": "stream",
     "text": [
      "0.96\n"
     ]
    }
   ],
   "execution_count": 21
  }
 ],
 "metadata": {},
 "nbformat": 4,
 "nbformat_minor": 5
}
