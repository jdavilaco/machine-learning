{
 "cells": [
  {
   "metadata": {
    "ExecuteTime": {
     "end_time": "2025-06-21T22:00:39.791714Z",
     "start_time": "2025-06-21T22:00:37.283236Z"
    }
   },
   "cell_type": "code",
   "source": [
    "import numpy as np\n",
    "from sklearn.tree import DecisionTreeClassifier\n",
    "from sklearn.model_selection import train_test_split\n",
    "from sklearn import datasets\n",
    "from sklearn.model_selection import cross_validate\n"
   ],
   "id": "e8e43b4d6623589b",
   "outputs": [],
   "execution_count": 1
  },
  {
   "metadata": {
    "ExecuteTime": {
     "end_time": "2025-06-21T22:03:40.658927Z",
     "start_time": "2025-06-21T22:03:40.639511Z"
    }
   },
   "cell_type": "code",
   "source": [
    "cancer_data = datasets.load_breast_cancer()\n",
    "\n",
    "features = cancer_data.data\n",
    "labels = cancer_data.target\n",
    "\n",
    "feature_train, feature_test, target_train, target_test = train_test_split(features, labels, test_size=0.2)\n"
   ],
   "id": "edc4cf69d932de88",
   "outputs": [],
   "execution_count": 24
  },
  {
   "metadata": {
    "ExecuteTime": {
     "end_time": "2025-06-21T22:04:59.666099Z",
     "start_time": "2025-06-21T22:04:59.541114Z"
    }
   },
   "cell_type": "code",
   "source": [
    "model = DecisionTreeClassifier(criterion='entropy', max_depth=5)\n",
    "\n",
    "predicted = cross_validate(model, features, labels, cv=10)\n",
    "print(np.mean(predicted['test_score']))\n"
   ],
   "id": "a65f765b56c0faed",
   "outputs": [
    {
     "name": "stdout",
     "output_type": "stream",
     "text": [
      "0.943765664160401\n"
     ]
    }
   ],
   "execution_count": 39
  }
 ],
 "metadata": {},
 "nbformat": 4,
 "nbformat_minor": 5
}
