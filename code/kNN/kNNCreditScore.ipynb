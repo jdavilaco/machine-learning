{
 "cells": [
  {
   "metadata": {
    "ExecuteTime": {
     "end_time": "2025-06-07T02:06:40.163528Z",
     "start_time": "2025-06-07T02:06:37.890330Z"
    }
   },
   "cell_type": "code",
   "source": [
    "import pandas as pd\n",
    "import numpy as np\n",
    "from sklearn.neighbors import KNeighborsClassifier\n",
    "from sklearn.model_selection import train_test_split\n",
    "from sklearn.metrics import confusion_matrix\n",
    "from sklearn.metrics import accuracy_score\n",
    "from sklearn import preprocessing\n",
    "from sklearn.model_selection import cross_val_score\n"
   ],
   "id": "17399b10d35433f8",
   "outputs": [],
   "execution_count": 2
  },
  {
   "metadata": {
    "ExecuteTime": {
     "end_time": "2025-06-07T02:10:42.743495Z",
     "start_time": "2025-06-07T02:10:42.732041Z"
    }
   },
   "cell_type": "code",
   "source": [
    "data = pd.read_csv(\"../../datasets/credit_data.csv\")\n",
    "\n",
    "features = data[[\"income\", \"age\", \"loan\"]]\n",
    "target = data.default\n",
    "\n",
    "# machine learning handle arrays not data-frames\n",
    "X = np.array(features).reshape(-1, 3)\n",
    "y = np.array(target)\n",
    "\n",
    "X = preprocessing.MinMaxScaler().fit_transform(X)\n",
    "\n",
    "print(X)"
   ],
   "id": "cac12ab740dfc931",
   "outputs": [
    {
     "name": "stdout",
     "output_type": "stream",
     "text": [
      "[[0.9231759  0.89209175 0.58883739]\n",
      " [0.28812165 0.65470788 0.47682695]\n",
      " [0.74633429 0.9811888  0.58262011]\n",
      " ...\n",
      " [0.48612202 0.21695807 0.40112895]\n",
      " [0.47500998 1.         0.1177903 ]\n",
      " [0.98881367 0.82970913 0.53597028]]\n"
     ]
    }
   ],
   "execution_count": 5
  },
  {
   "metadata": {
    "ExecuteTime": {
     "end_time": "2025-06-07T02:17:38.575713Z",
     "start_time": "2025-06-07T02:17:24.498903Z"
    }
   },
   "cell_type": "code",
   "source": [
    "feature_train, feature_test, target_train, target_test = train_test_split(X, y, test_size=0.3)\n",
    "\n",
    "model = KNeighborsClassifier(n_neighbors=32)\n",
    "fitted_model = model.fit(feature_train, target_train)\n",
    "predictions = fitted_model.predict(feature_test)\n",
    "\n",
    "cross_valid_scores = []\n",
    "\n",
    "for k in range(1, 100):\n",
    "    knn = KNeighborsClassifier(n_neighbors=k)\n",
    "    scores = cross_val_score(knn, X, y, cv=10, scoring='accuracy')\n",
    "    cross_valid_scores.append(scores.mean())\n",
    "\n",
    "print(\"Optimal k with cross-validation: \", np.argmax(cross_valid_scores))\n",
    "\n",
    "print(confusion_matrix(target_test, predictions))\n",
    "print(accuracy_score(target_test, predictions))\n"
   ],
   "id": "84c1c7258138ca41",
   "outputs": [
    {
     "name": "stdout",
     "output_type": "stream",
     "text": [
      "Optimal k with cross-validation:  32\n",
      "[[521   0]\n",
      " [ 12  67]]\n",
      "0.98\n"
     ]
    }
   ],
   "execution_count": 12
  }
 ],
 "metadata": {},
 "nbformat": 4,
 "nbformat_minor": 5
}
