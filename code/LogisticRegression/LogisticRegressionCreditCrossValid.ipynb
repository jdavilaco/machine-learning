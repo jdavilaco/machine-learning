{
 "cells": [
  {
   "metadata": {
    "ExecuteTime": {
     "end_time": "2025-06-06T23:26:54.232325Z",
     "start_time": "2025-06-06T23:26:51.658773Z"
    }
   },
   "cell_type": "code",
   "source": [
    "import pandas as pd\n",
    "import numpy as np\n",
    "from sklearn.linear_model import LogisticRegression\n",
    "from sklearn.model_selection import cross_validate\n",
    "\n",
    "credit_data = pd.read_csv(\"../../datasets/credit_data.csv\")\n"
   ],
   "id": "4ce3fa8f56cb0186",
   "outputs": [],
   "execution_count": 1
  },
  {
   "metadata": {
    "ExecuteTime": {
     "end_time": "2025-06-06T23:26:57.181198Z",
     "start_time": "2025-06-06T23:26:57.173352Z"
    }
   },
   "cell_type": "code",
   "source": [
    "features = credit_data[[\"income\", \"age\", \"loan\"]]\n",
    "target = credit_data.default\n",
    "\n",
    "# machine learning handle arrays not data-frames\n",
    "X = np.array(features).reshape(-1, 3)\n",
    "y = np.array(target)\n"
   ],
   "id": "77a92000b77c1fb6",
   "outputs": [],
   "execution_count": 2
  },
  {
   "metadata": {
    "ExecuteTime": {
     "end_time": "2025-06-06T23:34:27.381820Z",
     "start_time": "2025-06-06T23:34:27.258488Z"
    }
   },
   "cell_type": "code",
   "source": [
    "model = LogisticRegression()\n",
    "predicted = cross_validate(model, X, y, cv=5)\n",
    "\n",
    "print(np.mean(predicted['test_score']))\n"
   ],
   "id": "95f9a2704db39a8",
   "outputs": [
    {
     "name": "stdout",
     "output_type": "stream",
     "text": [
      "0.9480000000000001\n"
     ]
    }
   ],
   "execution_count": 7
  }
 ],
 "metadata": {},
 "nbformat": 4,
 "nbformat_minor": 5
}
