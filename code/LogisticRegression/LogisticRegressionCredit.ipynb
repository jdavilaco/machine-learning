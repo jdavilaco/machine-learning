{
 "cells": [
  {
   "metadata": {
    "ExecuteTime": {
     "end_time": "2025-06-03T02:35:33.965750Z",
     "start_time": "2025-06-03T02:35:33.946826Z"
    }
   },
   "cell_type": "code",
   "source": [
    "import pandas as pd\n",
    "from sklearn.linear_model import LogisticRegression\n",
    "from sklearn.model_selection import train_test_split\n",
    "from sklearn.metrics import confusion_matrix\n",
    "from sklearn.metrics import accuracy_score\n",
    "\n",
    "credit_data = pd.read_csv(\"../../datasets/credit_data.csv\")\n",
    "\n",
    "# credit_data.head()\n",
    "# credit_data.describe()  # statistics description\n",
    "credit_data.corr()  # features correlation"
   ],
   "id": "19adf14ccef8f722",
   "outputs": [
    {
     "data": {
      "text/plain": [
       "          clientid    income       age      loan       LTI   default\n",
       "clientid  1.000000  0.039280 -0.030341  0.018931  0.002538 -0.020145\n",
       "income    0.039280  1.000000 -0.034984  0.441117 -0.019862  0.002284\n",
       "age      -0.030341 -0.034984  1.000000  0.006561  0.021588 -0.444765\n",
       "loan      0.018931  0.441117  0.006561  1.000000  0.847495  0.377160\n",
       "LTI       0.002538 -0.019862  0.021588  0.847495  1.000000  0.433261\n",
       "default  -0.020145  0.002284 -0.444765  0.377160  0.433261  1.000000"
      ],
      "text/html": [
       "<div>\n",
       "<style scoped>\n",
       "    .dataframe tbody tr th:only-of-type {\n",
       "        vertical-align: middle;\n",
       "    }\n",
       "\n",
       "    .dataframe tbody tr th {\n",
       "        vertical-align: top;\n",
       "    }\n",
       "\n",
       "    .dataframe thead th {\n",
       "        text-align: right;\n",
       "    }\n",
       "</style>\n",
       "<table border=\"1\" class=\"dataframe\">\n",
       "  <thead>\n",
       "    <tr style=\"text-align: right;\">\n",
       "      <th></th>\n",
       "      <th>clientid</th>\n",
       "      <th>income</th>\n",
       "      <th>age</th>\n",
       "      <th>loan</th>\n",
       "      <th>LTI</th>\n",
       "      <th>default</th>\n",
       "    </tr>\n",
       "  </thead>\n",
       "  <tbody>\n",
       "    <tr>\n",
       "      <th>clientid</th>\n",
       "      <td>1.000000</td>\n",
       "      <td>0.039280</td>\n",
       "      <td>-0.030341</td>\n",
       "      <td>0.018931</td>\n",
       "      <td>0.002538</td>\n",
       "      <td>-0.020145</td>\n",
       "    </tr>\n",
       "    <tr>\n",
       "      <th>income</th>\n",
       "      <td>0.039280</td>\n",
       "      <td>1.000000</td>\n",
       "      <td>-0.034984</td>\n",
       "      <td>0.441117</td>\n",
       "      <td>-0.019862</td>\n",
       "      <td>0.002284</td>\n",
       "    </tr>\n",
       "    <tr>\n",
       "      <th>age</th>\n",
       "      <td>-0.030341</td>\n",
       "      <td>-0.034984</td>\n",
       "      <td>1.000000</td>\n",
       "      <td>0.006561</td>\n",
       "      <td>0.021588</td>\n",
       "      <td>-0.444765</td>\n",
       "    </tr>\n",
       "    <tr>\n",
       "      <th>loan</th>\n",
       "      <td>0.018931</td>\n",
       "      <td>0.441117</td>\n",
       "      <td>0.006561</td>\n",
       "      <td>1.000000</td>\n",
       "      <td>0.847495</td>\n",
       "      <td>0.377160</td>\n",
       "    </tr>\n",
       "    <tr>\n",
       "      <th>LTI</th>\n",
       "      <td>0.002538</td>\n",
       "      <td>-0.019862</td>\n",
       "      <td>0.021588</td>\n",
       "      <td>0.847495</td>\n",
       "      <td>1.000000</td>\n",
       "      <td>0.433261</td>\n",
       "    </tr>\n",
       "    <tr>\n",
       "      <th>default</th>\n",
       "      <td>-0.020145</td>\n",
       "      <td>0.002284</td>\n",
       "      <td>-0.444765</td>\n",
       "      <td>0.377160</td>\n",
       "      <td>0.433261</td>\n",
       "      <td>1.000000</td>\n",
       "    </tr>\n",
       "  </tbody>\n",
       "</table>\n",
       "</div>"
      ]
     },
     "execution_count": 3,
     "metadata": {},
     "output_type": "execute_result"
    }
   ],
   "execution_count": 3
  },
  {
   "metadata": {
    "ExecuteTime": {
     "end_time": "2025-06-03T03:10:50.250773Z",
     "start_time": "2025-06-03T03:10:50.215025Z"
    }
   },
   "cell_type": "code",
   "source": [
    "features = credit_data[[\"income\", \"age\", \"loan\"]]\n",
    "target = credit_data.default\n",
    "\n",
    "# 30% of the data-set is for testing and 70% of the data-set is for training\n",
    "feature_train, feature_test, target_train, target_test = train_test_split(features, target, test_size=0.3)\n",
    "\n",
    "model = LogisticRegression()\n",
    "model_fit = model.fit(feature_train, target_train)\n",
    "\n",
    "predictions = model_fit.predict(feature_test)\n",
    "\n",
    "print(confusion_matrix(target_test, predictions))\n",
    "print(accuracy_score(target_test, predictions))\n"
   ],
   "id": "a913ec2228ec459c",
   "outputs": [
    {
     "name": "stdout",
     "output_type": "stream",
     "text": [
      "[[493  16]\n",
      " [ 19  72]]\n",
      "0.9416666666666667\n"
     ]
    }
   ],
   "execution_count": 13
  }
 ],
 "metadata": {},
 "nbformat": 4,
 "nbformat_minor": 5
}
