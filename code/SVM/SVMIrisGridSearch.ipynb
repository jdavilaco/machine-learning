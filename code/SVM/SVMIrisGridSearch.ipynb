{
 "cells": [
  {
   "metadata": {
    "ExecuteTime": {
     "end_time": "2025-06-19T00:40:57.893674Z",
     "start_time": "2025-06-19T00:40:55.670541Z"
    }
   },
   "cell_type": "code",
   "source": [
    "from sklearn import svm\n",
    "from sklearn.model_selection import train_test_split\n",
    "from sklearn.metrics import confusion_matrix\n",
    "from sklearn.metrics import accuracy_score\n",
    "from sklearn import datasets\n",
    "from sklearn.model_selection import GridSearchCV\n"
   ],
   "id": "fb7008e5dce9f12f",
   "outputs": [],
   "execution_count": 1
  },
  {
   "metadata": {
    "ExecuteTime": {
     "end_time": "2025-06-19T00:47:11.582291Z",
     "start_time": "2025-06-19T00:47:11.575939Z"
    }
   },
   "cell_type": "code",
   "source": [
    "iris_data = datasets.load_iris()\n",
    "\n",
    "features = iris_data.data\n",
    "target = iris_data.target\n",
    "\n",
    "feature_train, feature_test, target_train, target_test = train_test_split(features, target, test_size=0.3)\n"
   ],
   "id": "e5947f9844e72d8b",
   "outputs": [],
   "execution_count": 23
  },
  {
   "metadata": {
    "ExecuteTime": {
     "end_time": "2025-06-19T00:47:18.442477Z",
     "start_time": "2025-06-19T00:47:13.545652Z"
    }
   },
   "cell_type": "code",
   "source": [
    "model = svm.SVC()\n",
    "\n",
    "param_grid = {'C': [0.1, 1, 5, 10, 20, 30, 40, 50, 60, 70, 100, 200],\n",
    "              'gamma': [1, 0.1, 0.01, 0.001],\n",
    "              'kernel': ['rbf', 'poly', 'sigmoid']}\n",
    "\n",
    "grid = GridSearchCV(model, param_grid, refit=True)\n",
    "grid.fit(feature_train, target_train)\n",
    "\n",
    "print(grid.best_estimator_)\n"
   ],
   "id": "fa5aecdfea1b3192",
   "outputs": [
    {
     "name": "stdout",
     "output_type": "stream",
     "text": [
      "SVC(C=5, gamma=0.1, kernel='poly')\n"
     ]
    }
   ],
   "execution_count": 24
  },
  {
   "metadata": {
    "ExecuteTime": {
     "end_time": "2025-06-19T00:47:18.473948Z",
     "start_time": "2025-06-19T00:47:18.467435Z"
    }
   },
   "cell_type": "code",
   "source": [
    "grid_predictions = grid.predict(feature_test)\n",
    "print(confusion_matrix(target_test, grid_predictions))\n",
    "print(accuracy_score(target_test, grid_predictions))\n"
   ],
   "id": "92b3c7f23bd7ee5c",
   "outputs": [
    {
     "name": "stdout",
     "output_type": "stream",
     "text": [
      "[[15  0  0]\n",
      " [ 0 16  0]\n",
      " [ 0  0 14]]\n",
      "1.0\n"
     ]
    }
   ],
   "execution_count": 25
  }
 ],
 "metadata": {},
 "nbformat": 4,
 "nbformat_minor": 5
}
