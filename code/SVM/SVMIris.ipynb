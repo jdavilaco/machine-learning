{
 "cells": [
  {
   "metadata": {
    "ExecuteTime": {
     "end_time": "2025-06-19T00:32:32.039297Z",
     "start_time": "2025-06-19T00:32:29.828108Z"
    }
   },
   "cell_type": "code",
   "source": [
    "from sklearn import svm\n",
    "from sklearn.model_selection import train_test_split\n",
    "from sklearn.metrics import confusion_matrix\n",
    "from sklearn.metrics import accuracy_score\n",
    "from sklearn import datasets\n"
   ],
   "id": "1a62a0407f0cb16a",
   "outputs": [],
   "execution_count": 1
  },
  {
   "metadata": {
    "ExecuteTime": {
     "end_time": "2025-06-19T00:38:13.797050Z",
     "start_time": "2025-06-19T00:38:13.789614Z"
    }
   },
   "cell_type": "code",
   "source": [
    "iris_data = datasets.load_iris()\n",
    "\n",
    "features = iris_data.data\n",
    "target = iris_data.target\n",
    "\n",
    "feature_train, feature_test, target_train, target_test = train_test_split(features, target, test_size=0.3)\n"
   ],
   "id": "b9e72eff24a74b7d",
   "outputs": [],
   "execution_count": 10
  },
  {
   "metadata": {
    "ExecuteTime": {
     "end_time": "2025-06-19T00:38:16.369790Z",
     "start_time": "2025-06-19T00:38:16.360832Z"
    }
   },
   "cell_type": "code",
   "source": [
    "model = svm.SVC()\n",
    "fitted_model = model.fit(feature_train, target_train)\n",
    "predictions = fitted_model.predict(feature_test)\n",
    "\n",
    "print(confusion_matrix(target_test, predictions))\n",
    "print(accuracy_score(target_test, predictions))\n"
   ],
   "id": "c868ba1d727a8c4c",
   "outputs": [
    {
     "name": "stdout",
     "output_type": "stream",
     "text": [
      "[[20  0  0]\n",
      " [ 0  9  0]\n",
      " [ 0  2 14]]\n",
      "0.9555555555555556\n"
     ]
    }
   ],
   "execution_count": 11
  }
 ],
 "metadata": {},
 "nbformat": 4,
 "nbformat_minor": 5
}
