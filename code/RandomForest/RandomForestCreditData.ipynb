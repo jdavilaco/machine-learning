{
 "cells": [
  {
   "metadata": {
    "ExecuteTime": {
     "end_time": "2025-06-22T21:28:09.382280Z",
     "start_time": "2025-06-22T21:28:06.726252Z"
    }
   },
   "cell_type": "code",
   "source": [
    "import pandas as pd\n",
    "import numpy as np\n",
    "from sklearn.ensemble import RandomForestClassifier\n",
    "from sklearn.model_selection import cross_validate\n",
    "\n",
    "# logistic regression accuracy: 93%\n",
    "# we do better with knn: 97.5% !!!!!!!!\n",
    "# 84% simple kNN without normalizing the dataset\n",
    "# we can achieve ~ 99% with random forests\n"
   ],
   "id": "97bd3a399294bd5f",
   "outputs": [],
   "execution_count": 1
  },
  {
   "metadata": {
    "ExecuteTime": {
     "end_time": "2025-06-22T21:29:52.539749Z",
     "start_time": "2025-06-22T21:29:52.525301Z"
    }
   },
   "cell_type": "code",
   "source": [
    "credit_data = pd.read_csv(\"../../datasets/credit_data.csv\")\n",
    "\n",
    "features = credit_data[[\"income\", \"age\", \"loan\"]]\n",
    "targets = credit_data.default\n",
    "\n",
    "# machine learning handle arrays not data-frames\n",
    "X = np.array(features).reshape(-1, 3)\n",
    "y = np.array(targets)\n"
   ],
   "id": "6332adc97c37afd3",
   "outputs": [],
   "execution_count": 2
  },
  {
   "metadata": {
    "ExecuteTime": {
     "end_time": "2025-06-22T21:30:45.664472Z",
     "start_time": "2025-06-22T21:30:43.406307Z"
    }
   },
   "cell_type": "code",
   "source": [
    "model = RandomForestClassifier()\n",
    "predicted = cross_validate(model, X, y, cv=10)\n",
    "\n",
    "print(np.mean(predicted['test_score']))\n"
   ],
   "id": "62b35200033e5ec8",
   "outputs": [
    {
     "name": "stdout",
     "output_type": "stream",
     "text": [
      "0.9899999999999999\n"
     ]
    }
   ],
   "execution_count": 7
  }
 ],
 "metadata": {},
 "nbformat": 4,
 "nbformat_minor": 5
}
