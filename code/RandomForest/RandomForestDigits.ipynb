{
 "cells": [
  {
   "metadata": {
    "ExecuteTime": {
     "end_time": "2025-06-22T21:50:22.599099Z",
     "start_time": "2025-06-22T21:50:22.595407Z"
    }
   },
   "cell_type": "code",
   "source": [
    "from sklearn.ensemble import RandomForestClassifier\n",
    "from sklearn.model_selection import GridSearchCV\n",
    "from sklearn.model_selection import train_test_split\n",
    "from sklearn.metrics import confusion_matrix\n",
    "from sklearn.metrics import accuracy_score\n",
    "from sklearn import datasets\n"
   ],
   "id": "8cf664123ab7db44",
   "outputs": [],
   "execution_count": 6
  },
  {
   "metadata": {
    "ExecuteTime": {
     "end_time": "2025-06-22T21:50:24.738101Z",
     "start_time": "2025-06-22T21:50:24.720433Z"
    }
   },
   "cell_type": "code",
   "source": [
    "digit_data = datasets.load_digits()\n",
    "\n",
    "image_features = digit_data.images.reshape((len(digit_data.images), -1))\n",
    "image_targets = digit_data.target\n",
    "\n",
    "feature_train, feature_test, target_train, target_test = train_test_split(image_features, image_targets, test_size=.2)\n"
   ],
   "id": "80f99e87c286f0a3",
   "outputs": [],
   "execution_count": 7
  },
  {
   "metadata": {
    "ExecuteTime": {
     "end_time": "2025-06-22T23:17:58.784055Z",
     "start_time": "2025-06-22T23:08:55.356786Z"
    }
   },
   "cell_type": "code",
   "source": [
    "random_forest_model = RandomForestClassifier(n_jobs=-1, max_features='sqrt')\n",
    "\n",
    "param_grid = {\n",
    "    \"n_estimators\": [10, 100, 500, 1000],\n",
    "    \"max_depth\": [1, 5, 10],\n",
    "    \"min_samples_leaf\": [1, 2, 4, 10, 15, 30, 50]\n",
    "}\n",
    "\n",
    "grid_search = GridSearchCV(estimator=random_forest_model, param_grid=param_grid, cv=10)\n",
    "grid_search.fit(feature_train, target_train)\n",
    "print(grid_search.best_params_)\n"
   ],
   "id": "c601e7ec7ff9b6cf",
   "outputs": [
    {
     "name": "stdout",
     "output_type": "stream",
     "text": [
      "{'max_depth': 10, 'min_samples_leaf': 1, 'n_estimators': 500}\n"
     ]
    }
   ],
   "execution_count": 16
  },
  {
   "metadata": {
    "ExecuteTime": {
     "end_time": "2025-06-22T23:18:16.731615Z",
     "start_time": "2025-06-22T23:18:16.727395Z"
    }
   },
   "cell_type": "code",
   "source": [
    "optimal_estimators = grid_search.best_params_.get(\"n_estimators\")\n",
    "optimal_depth = grid_search.best_params_.get(\"max_depth\")\n",
    "optimal_leaf = grid_search.best_params_.get(\"min_samples_leaf\")\n",
    "\n",
    "print(\"Optimal n_estimators: %s\" % optimal_estimators)\n",
    "print(\"Optimal optimal_depth: %s\" % optimal_depth)\n",
    "print(\"Optimal optimal_leaf: %s\" % optimal_leaf)\n"
   ],
   "id": "97c13e9e08b764f5",
   "outputs": [
    {
     "name": "stdout",
     "output_type": "stream",
     "text": [
      "Optimal n_estimators: 500\n",
      "Optimal optimal_depth: 10\n",
      "Optimal optimal_leaf: 1\n"
     ]
    }
   ],
   "execution_count": 17
  },
  {
   "metadata": {
    "ExecuteTime": {
     "end_time": "2025-06-22T23:18:19.806947Z",
     "start_time": "2025-06-22T23:18:19.690106Z"
    }
   },
   "cell_type": "code",
   "source": [
    "grid_predictions = grid_search.predict(feature_test)\n",
    "print(confusion_matrix(target_test, grid_predictions))\n",
    "print(accuracy_score(target_test, grid_predictions))\n"
   ],
   "id": "76fa034ad0f90298",
   "outputs": [
    {
     "name": "stdout",
     "output_type": "stream",
     "text": [
      "[[28  0  0  0  1  0  0  0  0  0]\n",
      " [ 0 31  0  0  0  0  0  0  0  0]\n",
      " [ 1  1 36  0  0  0  0  0  0  0]\n",
      " [ 0  0  0 25  0  0  0  0  0  0]\n",
      " [ 0  0  0  0 40  0  0  0  0  0]\n",
      " [ 0  0  0  0  0 45  0  0  0  0]\n",
      " [ 0  0  0  0  0  0 33  0  0  0]\n",
      " [ 0  0  0  0  1  0  0 34  0  0]\n",
      " [ 0  2  0  0  0  0  0  0 32  0]\n",
      " [ 0  0  0  1  0  1  0  0  0 48]]\n",
      "0.9777777777777777\n"
     ]
    }
   ],
   "execution_count": 18
  }
 ],
 "metadata": {},
 "nbformat": 4,
 "nbformat_minor": 5
}
