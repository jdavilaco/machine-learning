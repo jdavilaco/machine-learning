{
 "cells": [
  {
   "metadata": {
    "ExecuteTime": {
     "end_time": "2025-06-22T21:24:27.998758Z",
     "start_time": "2025-06-22T21:24:25.049680Z"
    }
   },
   "cell_type": "code",
   "source": [
    "from sklearn.ensemble import RandomForestClassifier\n",
    "from sklearn.model_selection import train_test_split\n",
    "from sklearn.metrics import confusion_matrix\n",
    "from sklearn.metrics import accuracy_score\n",
    "from sklearn import datasets\n"
   ],
   "id": "71b656005a6d8748",
   "outputs": [],
   "execution_count": 1
  },
  {
   "metadata": {
    "ExecuteTime": {
     "end_time": "2025-06-22T21:24:29.156223Z",
     "start_time": "2025-06-22T21:24:29.145201Z"
    }
   },
   "cell_type": "code",
   "source": [
    "iris_data = datasets.load_iris()\n",
    "\n",
    "features = iris_data.data\n",
    "targets = iris_data.target\n",
    "\n",
    "feature_train, feature_test, target_train, target_test = train_test_split(features, targets, test_size=.2)\n"
   ],
   "id": "936a6be6f055868e",
   "outputs": [],
   "execution_count": 2
  },
  {
   "metadata": {
    "ExecuteTime": {
     "end_time": "2025-06-22T21:25:08.164099Z",
     "start_time": "2025-06-22T21:25:06.650279Z"
    }
   },
   "cell_type": "code",
   "source": [
    "model = RandomForestClassifier(n_estimators=1000, max_features='sqrt')\n",
    "fitted_model = model.fit(feature_train, target_train)\n",
    "predictions = fitted_model.predict(feature_test)\n",
    "\n",
    "print(confusion_matrix(target_test, predictions))\n",
    "print(accuracy_score(target_test, predictions))\n"
   ],
   "id": "d86939b55cc662ee",
   "outputs": [
    {
     "name": "stdout",
     "output_type": "stream",
     "text": [
      "[[10  0  0]\n",
      " [ 0 10  0]\n",
      " [ 0  0 10]]\n",
      "1.0\n"
     ]
    }
   ],
   "execution_count": 3
  }
 ],
 "metadata": {},
 "nbformat": 4,
 "nbformat_minor": 5
}
