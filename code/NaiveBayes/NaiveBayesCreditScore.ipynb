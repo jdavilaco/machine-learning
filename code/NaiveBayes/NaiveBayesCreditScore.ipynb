{
 "cells": [
  {
   "metadata": {
    "ExecuteTime": {
     "end_time": "2025-06-17T01:59:29.975939Z",
     "start_time": "2025-06-17T01:59:15.411194Z"
    }
   },
   "cell_type": "code",
   "source": [
    "import pandas as pd\n",
    "from sklearn.naive_bayes import GaussianNB\n",
    "from sklearn.model_selection import train_test_split\n",
    "from sklearn.metrics import confusion_matrix\n",
    "from sklearn.metrics import accuracy_score"
   ],
   "id": "c81bed4c22c473a7",
   "outputs": [],
   "execution_count": 1
  },
  {
   "metadata": {
    "ExecuteTime": {
     "end_time": "2025-06-17T02:00:54.864133Z",
     "start_time": "2025-06-17T02:00:54.846691Z"
    }
   },
   "cell_type": "code",
   "source": [
    "data = pd.read_csv(\"../../datasets/credit_data.csv\")\n",
    "\n",
    "features = data[[\"income\", \"age\", \"loan\"]]\n",
    "target = data.default\n",
    "\n",
    "print(features.corr())\n",
    "\n",
    "feature_train, feature_test, target_train, target_test = train_test_split(features, target, test_size=0.3)\n"
   ],
   "id": "ad1cae79837cc53e",
   "outputs": [
    {
     "name": "stdout",
     "output_type": "stream",
     "text": [
      "          income       age      loan\n",
      "income  1.000000 -0.034984  0.441117\n",
      "age    -0.034984  1.000000  0.006561\n",
      "loan    0.441117  0.006561  1.000000\n"
     ]
    }
   ],
   "execution_count": 4
  },
  {
   "metadata": {
    "ExecuteTime": {
     "end_time": "2025-06-17T02:01:48.989764Z",
     "start_time": "2025-06-17T02:01:48.977683Z"
    }
   },
   "cell_type": "code",
   "source": [
    "model = GaussianNB()\n",
    "fittedModel = model.fit(feature_train, target_train)\n",
    "predictions = fittedModel.predict(feature_test)\n",
    "\n",
    "print(confusion_matrix(target_test, predictions))\n",
    "print(accuracy_score(target_test, predictions))\n"
   ],
   "id": "1770b54fa715eeeb",
   "outputs": [
    {
     "name": "stdout",
     "output_type": "stream",
     "text": [
      "[[501  12]\n",
      " [ 35  52]]\n",
      "0.9216666666666666\n"
     ]
    }
   ],
   "execution_count": 8
  }
 ],
 "metadata": {},
 "nbformat": 4,
 "nbformat_minor": 5
}
